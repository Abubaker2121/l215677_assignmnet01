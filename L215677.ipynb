{
  "nbformat": 4,
  "nbformat_minor": 0,
  "metadata": {
    "colab": {
      "provenance": [],
      "collapsed_sections": []
    },
    "kernelspec": {
      "name": "python3",
      "display_name": "Python 3"
    },
    "language_info": {
      "name": "python"
    }
  },
  "cells": [
    {
      "cell_type": "code",
      "execution_count": 20,
      "metadata": {
        "colab": {
          "base_uri": "https://localhost:8080/",
          "height": 314
        },
        "id": "ft5Yxj8TC5Cu",
        "outputId": "0ac4c9fd-ab35-45c0-8485-cc1a684b2b33"
      },
      "outputs": [
        {
          "output_type": "stream",
          "name": "stdout",
          "text": [
            "SLOPE :  [[0.48913766]]\n",
            "InterCept :  [-5.57328662]\n"
          ]
        },
        {
          "output_type": "display_data",
          "data": {
            "text/plain": [
              "<Figure size 432x288 with 1 Axes>"
            ],
            "image/png": "[encoded data removed]"
          },
          "metadata": {
            "needs_background": "light"
          }
        }
      ],
      "source": [
        "#QUESTION NO.4\n",
        "import pandas as pd\n",
        "import numpy as np\n",
        "import matplotlib.pyplot as plt\n",
        "from sklearn import linear_model\n",
        "\n",
        "df=pd.read_csv(\"CatData.csv\")\n",
        "df\n",
        "df=df.dropna()\n",
        "df\n",
        "#Independent Variable = Tail length\n",
        "#Dependent Variable = Mass\n",
        "num=int(len(df)*0.8)\n",
        "train=df[:num]\n",
        "test=df[num:]\n",
        "regr=linear_model.LinearRegression()\n",
        "train_x=np.array(train[[\"Tail Length (cm)\"]])\n",
        "train_y=np.array(train[[\"Mass (kg)\"]])\n",
        "regr.fit(train_x,train_y)\n",
        "coff=regr.coef_\n",
        "inter=regr.intercept_\n",
        "print(\"SLOPE : \",coff)\n",
        "print(\"InterCept : \",inter)\n",
        "plt.scatter(train[\"Tail Length (cm)\"],train[\"Mass (kg)\"])\n",
        "plt.plot(color=\"red\")\n",
        "plt.xlabel(\"Tail Length (cm)\")\n",
        "plt.ylabel(\"Mass (kg)\")\n",
        "plt.show()\n",
        "\n",
        "\n",
        "\n"
      ]
    },
    {
      "cell_type": "code",
      "source": [
        "#QUESTION NO.2,3\n",
        "import numpy as np\n",
        "\n",
        "#part A\n",
        "import pandas as pd\n",
        "StudentData=pd.read_csv(\"StudentMarkSheet.csv\")\n",
        "StudentData\n",
        "#part B\n",
        "StudentData.index #rows before\n",
        "StudentData=StudentData.dropna()\n",
        "StudentData\n",
        "StudentData.index #rows after\n",
        "\n",
        "#Part C\n",
        "df=StudentData.loc[StudentData[\"Student name\"]==\"James Walker\",(\"Student name\",\"Exam name\",\"Marks\")]\n",
        "print(df)\n",
        "\n",
        "#Question 3\n",
        "#part A\n",
        "biology = StudentData.loc[StudentData[\"Exam name\"] == \"Biology\", \"Marks\"]\n",
        "\n",
        "n_biology = biology.count()\n",
        "\n",
        "S_biology = biology.sum()\n",
        "\n",
        "a_biology = S_biology / n_biology\n",
        "\n",
        "print(\"\\nTotal of Biology Tests: \", n_biology, \"\\nSigma of Biology: \", S_biology)\n",
        "\n",
        "print(\"\\nAverage of Biology: \", a_biology)\n",
        "\n",
        "chemistry = StudentData.loc[StudentData[\"Exam name\"] == \"Chemistry\", \"Marks\"]\n",
        "\n",
        "n_chemistry = chemistry.count()\n",
        "\n",
        "S_chemistry = chemistry.sum()\n",
        "\n",
        "a_chemistry = S_chemistry / n_chemistry\n",
        "\n",
        "print(\"\\nTotal of Chemistry Tests: \", n_chemistry, \"\\nSigma of Chemistry: \", S_chemistry)\n",
        "\n",
        "print(\"\\nAverage of Chemistry: \", a_chemistry)\n",
        "\n",
        "physics = StudentData.loc[StudentData[\"Exam name\"] == \"Physics\", \"Marks\"]\n",
        "\n",
        "n_physics = physics.count()\n",
        "\n",
        "S_physics = physics.sum()\n",
        "\n",
        "a_physics = S_physics / n_physics\n",
        "\n",
        "print(\"\\nTotal of Physics Tests: \", n_physics, \"\\nSigma of Physics: \", S_physics)\n",
        "\n",
        "print(\"\\nAverage of Physics: \", a_physics)\n",
        "\n",
        "maths = StudentData.loc[StudentData[\"Exam name\"] == \"Mathematics\", \"Marks\"]\n",
        "\n",
        "n_maths = maths.count()\n",
        "\n",
        "S_maths = maths.sum()\n",
        "\n",
        "a_maths = S_maths / n_maths\n",
        "\n",
        "print(\"\\nTotal of Mathematics Tests: \", n_maths, \"\\nSigma of Mathematics: \", S_maths)\n",
        "\n",
        "print(\"\\nAverage of Mathematics: \", a_maths)\n",
        "\n",
        "socio = StudentData.loc[StudentData[\"Exam name\"] == \"Sociology\", \"Marks\"]\n",
        "\n",
        "n_socio = socio.count()\n",
        "\n",
        "S_socio = socio.sum()\n",
        "\n",
        "a_socio = S_socio / n_socio\n",
        "\n",
        "print(\"\\nTotal of Sociology Tests: \", n_socio, \"\\nSigma of Sociology: \", S_socio)\n",
        "\n",
        "print(\"\\nAverage of Sociology: \", a_socio)\n",
        "#Part B\n",
        "marks = np.array([a_biology, a_chemistry, a_maths, a_physics, a_socio])\n",
        "subjects = np.array([\"Biology\", \"Chemistry\", \"Mathematics\", \"Physics\", \"Sociology\"])\n",
        "df = pd.DataFrame(marks, index=subjects)\n",
        "df.plot.bar(rot=0, color='maroon', width=0.4)\n",
        "plt.title(\"Averages of Each Subject\")\n",
        "plt.show()\n"
      ],
      "metadata": {
        "colab": {
          "base_uri": "https://localhost:8080/",
          "height": 819
        },
        "id": "4O0wjXe9gKvP",
        "outputId": "7ac63286-135c-4b9a-c6fd-68cbec733a80"
      },
      "execution_count": 25,
      "outputs": [
        {
          "output_type": "stream",
          "name": "stdout",
          "text": [
            "     Student name    Exam name  Marks\n",
            "0    James Walker      Biology   31.0\n",
            "42   James Walker    Chemistry   61.0\n",
            "71   James Walker  Mathematics   23.0\n",
            "150  James Walker      Physics  100.0\n",
            "180  James Walker    Sociology   73.0\n",
            "\n",
            "Total of Biology Tests:  38 \n",
            "Sigma of Biology:  1820.0\n",
            "\n",
            "Average of Biology:  47.89473684210526\n",
            "\n",
            "Total of Chemistry Tests:  26 \n",
            "Sigma of Chemistry:  1315.0\n",
            "\n",
            "Average of Chemistry:  50.57692307692308\n",
            "\n",
            "Total of Physics Tests:  21 \n",
            "Sigma of Physics:  1087.0\n",
            "\n",
            "Average of Physics:  51.76190476190476\n",
            "\n",
            "Total of Mathematics Tests:  36 \n",
            "Sigma of Mathematics:  1763.0\n",
            "\n",
            "Average of Mathematics:  48.97222222222222\n",
            "\n",
            "Total of Sociology Tests:  38 \n",
            "Sigma of Sociology:  2129.0\n",
            "\n",
            "Average of Sociology:  56.026315789473685\n"
          ]
        },
        {
          "output_type": "display_data",
          "data": {
            "text/plain": [
              "<Figure size 432x288 with 1 Axes>"
            ],
            "image/png": "[encoded data removed]"
          },
          "metadata": {
            "needs_background": "light"
          }
        }
      ]
    },
    {
      "cell_type": "code",
      "source": [
        "#Question No.1\n",
        "def Check_input(a):\n",
        "  r=len(a)\n",
        "  c=len(a[0])\n",
        "  for i in range(r):\n",
        "    for j in range(c):\n",
        "      if type(a[i][j]==str):\n",
        "        return False\n",
        "      elif j+1<c:\n",
        "        if a[i][j]==a[i][j+1]:\n",
        "          return False\n",
        "  for i in range(c):\n",
        "     for j in range(r):\n",
        "       if j+1<r:\n",
        "         if a[i][j]==a[i+1][j]:\n",
        "           return False\n",
        "  return True\n",
        "\n",
        "test1=[[1,2,3],\n",
        "       [2,3,1],\n",
        "       [3,1,2]]\n",
        "\n",
        "test2 = [[1, 2, 3, 4],\n",
        "        [2, 3, 1, 3],\n",
        "        [3, 1, 2, 3],\n",
        "        [4, 4, 4, 4]]\n",
        "\n",
        "test3 = [['a', 'b', 'c'],\n",
        "        ['b', 'c', 'a'],\n",
        "        ['c', 'a', 'b']]\n",
        "\n",
        "print(Check_input(test1)) \n",
        "print(Check_input(test2)) \n",
        "print(Check_input(test3)) \n"
      ],
      "metadata": {
        "id": "m4CnB4p7gV53"
      },
      "execution_count": null,
      "outputs": []
    }
  ]
}